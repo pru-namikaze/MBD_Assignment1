{
 "cells": [
  {
   "cell_type": "code",
   "execution_count": null,
   "metadata": {},
   "outputs": [],
   "source": [
    "import pandas as pandas\n",
    "dataframe = pandas.read_csv(\"dataset.csv\").dropna()\n",
    "dataframe[\"date\"] = pandas.to_datetime(dataframe['date'], format='%Y-%m-%d %H:%M:%S')\n",
    "dataframe[\"datetimestamp\"] = dataframe[\"date\"]\n",
    "dataframe[\"NSM\"] = (dataframe[\"date\"] - pandas.to_datetime(dataframe['date'].dt.date, format='%Y-%m-%d')).dt.total_seconds()\n",
    "dataframe[\"week_status\"] = dataframe[\"date\"].apply(lambda date: 1 if(date.weekday() <= 4) else 0)\n",
    "dataframe[\"day_of_week\"] = dataframe[\"date\"].dt.day_name()\n",
    "dataframe.info()"
   ]
  },
  {
   "cell_type": "code",
   "execution_count": null,
   "metadata": {},
   "outputs": [],
   "source": [
    "from pathlib import Path  \n",
    "output_dataset_path = Path(\"./dataframeResult/modifiedDataset.csv\")\n",
    "output_dataset_path.parent.mkdir(parents=True, exist_ok=True)\n",
    "dataframe.to_csv(Path(output_dataset_path))  \n",
    "dataframe.head()"
   ]
  },
  {
   "cell_type": "code",
   "execution_count": null,
   "metadata": {},
   "outputs": [],
   "source": [
    "dataframe.plot.line(\n",
    "    x = \"datetimestamp\", \n",
    "    y = \"Appliances\", \n",
    "    figsize = (48,9), \n",
    "    title = \"Appliances energy consumption vs datetimestamp\", \n",
    "    ylabel = \"Appliances energy consumption(in Wh)\", \n",
    "    xlabel = \"datetimestamp\"\n",
    ")\n",
    "\n",
    "import datetime as datetime\n",
    "dataframe.where((dataframe[\"datetimestamp\"] - dataframe[\"datetimestamp\"].min()) < datetime.timedelta(days = 7)).plot.line(\n",
    "    x = \"datetimestamp\", \n",
    "    y = \"Appliances\", \n",
    "    figsize = (48,9), \n",
    "    title = \"Appliances energy consumption vs datetimestamp\", \n",
    "    ylabel = \"Appliances energy consumption(in Wh)\", \n",
    "    xlabel = \"datetimestamp\"\n",
    ")"
   ]
  },
  {
   "cell_type": "code",
   "execution_count": null,
   "metadata": {},
   "outputs": [],
   "source": [
    "# Fig: 8 not working\n",
    "# # # # dataframe[\"Appliances\"].value_counts().plot.hist(\n",
    "# # # #     x = \"Appliances\", \n",
    "# # # #     y = \"Frequency\", \n",
    "# # # #     figsize = (48,9), \n",
    "# # # #     title = \"Frquency vs Appliances energy consumption\", \n",
    "# # # #     ylabel = \"Frequency\", \n",
    "# # # #     xlabel = \"Appliances energy consumption(in Wh)\"\n",
    "# # # # )"
   ]
  },
  {
   "cell_type": "code",
   "execution_count": null,
   "metadata": {},
   "outputs": [],
   "source": [
    "# # Not Happy with multiple Regression\n",
    "\n",
    "# from pyspark.sql import SparkSession\n",
    "# dataframe = SparkSession.builder.appName(\"Mining_Big_Data_Assignment_1\").getOrCreate().read.csv(\"./dataframeResult/modifiedDataset.csv\", header = True, inferSchema = True)\n",
    "# dataframe.dropna()\n",
    "\n",
    "# from pyspark.sql.types import DoubleType\n",
    "# dataframe = dataframe.withColumn(\"Appliances\", dataframe[\"Appliances\"].cast(DoubleType()))\n",
    "\n",
    "# from pyspark.ml.feature import VectorAssembler\n",
    "# train_dataset, test_dataset = VectorAssembler(inputCols=[\"lights\", \"T1\", \"RH_1\", \"T2\", \"RH_2\", \"T3\", \"RH_3\", \"T4\", \"RH_4\", \"T5\", \"RH_5\", \"T6\", \"RH_6\", \"T7\", \"RH_7\", \"T8\", \"RH_8\", \"T9\", \"RH_9\", \"T_out\", \"Press_mm_hg\", \"RH_out\", \"Windspeed\", \"Visibility\", \"Tdewpoint\", \"rv1\", \"rv2\", \"NSM\", \"week_status\"], outputCol=\"assembled_feature_vector\").transform(dataframe).randomSplit([0.75, 0.25])\n",
    "\n",
    "# from pyspark.ml.regression import Regress\n",
    "# model = LinearRegression(featuresCol=\"assembled_feature_vector\", labelCol=\"Appliances\").fit(train_dataset).transform(test_dataset)\n",
    "\n",
    "# from pyspark.ml.evaluation import RegressionEvaluator\n",
    "# root_mean_square_error = RegressionEvaluator(labelCol=\"Appliances\", predictionCol=\"Appliances\", metricName=\"rmse\").evaluate(model)\n",
    "\n",
    "# print(\"Root Mean Square Error = \" + str(root_mean_square_error))\n",
    "\n",
    "# import matplotlib.pyplot as plot\n",
    "# dataframe = model.toPandas()\n",
    "# plot.scatter(dataframe['lights'], dataframe['Appliances'])\n",
    "# plot.xlabel('Appliances energy consumption(in Wh)')\n",
    "# plot.ylabel('Light energy consumption(in Wh)')\n",
    "# plot.show()\n",
    "\n",
    "# dataframe = pandas.read_csv(\"./dataframeResult/modifiedDataset.csv\").dropna()\n",
    "# plot.scatter(dataframe['Appliances'], dataframe['lights'])\n",
    "# plot.plot(dataframe['lights'])\n",
    "# plot.xlabel('Appliances energy consumption(in Wh)')\n",
    "# plot.ylabel('Light energy consumption(in Wh)')\n",
    "# plot.show()"
   ]
  },
  {
   "cell_type": "code",
   "execution_count": null,
   "metadata": {},
   "outputs": [],
   "source": []
  }
 ],
 "metadata": {
  "kernelspec": {
   "display_name": "base",
   "language": "python",
   "name": "python3"
  },
  "language_info": {
   "codemirror_mode": {
    "name": "ipython",
    "version": 3
   },
   "file_extension": ".py",
   "mimetype": "text/x-python",
   "name": "python",
   "nbconvert_exporter": "python",
   "pygments_lexer": "ipython3",
   "version": "3.9.12"
  },
  "orig_nbformat": 4
 },
 "nbformat": 4,
 "nbformat_minor": 2
}
