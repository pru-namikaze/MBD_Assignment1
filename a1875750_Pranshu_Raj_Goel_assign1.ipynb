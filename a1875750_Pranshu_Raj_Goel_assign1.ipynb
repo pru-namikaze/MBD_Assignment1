{
 "cells": [
  {
   "attachments": {
    "download.jfif": {
     "image/jpeg": "[encoded data removed]"
    }
   },
   "cell_type": "markdown",
   "id": "6730fecf",
   "metadata": {},
   "source": [
    "## Assignment 1: Machine Learning Methods\n",
    "\n",
    "### Pranshu Raj Goel a1875750\n",
    "\n",
    "#### How can we use data analytics to predict energy usage for this house?\n",
    "\n",
    "![download.jfif](attachment:download.jfif)\n"
   ]
  },
  {
   "cell_type": "markdown",
   "id": "3df2aac6",
   "metadata": {},
   "source": [
    "### 1. Read the dataset"
   ]
  },
  {
   "cell_type": "code",
   "execution_count": null,
   "id": "9c5d57be",
   "metadata": {},
   "outputs": [],
   "source": [
    "#importing all needed libraries\n",
    "from pathlib import Path  \n",
    "from matplotlib import pyplot as plot\n",
    "from pathlib import Path  \n",
    "import pandas as pandas\n",
    "import numpy as numpy\n",
    "from sklearn.model_selection import train_test_split\n",
    "import seaborn as seaborn\n",
    "from sklearn.metrics import mean_squared_error, r2_score, mean_absolute_error, mean_absolute_percentage_error\n",
    "from sklearn.ensemble import GradientBoostingRegressor\n",
    "from sklearn.ensemble import RandomForestRegressor\n",
    "import joblib\n",
    "\n",
    "import warnings\n",
    "warnings.filterwarnings(\"ignore\")"
   ]
  },
  {
   "cell_type": "code",
   "execution_count": null,
   "id": "e967e07b",
   "metadata": {},
   "outputs": [],
   "source": [
    "# Extractign the data from dataset and dropping NA Columns\n",
    "dataframe = pandas.read_csv(\"energydata_complete-1.csv\")"
   ]
  },
  {
   "cell_type": "code",
   "execution_count": null,
   "id": "8af97e6b",
   "metadata": {},
   "outputs": [],
   "source": [
    "# List of Constants and Configurations\n",
    "TEST_SIZE_RATIO = 0.20\n",
    "RANDOM_STATE_SEED = 1875750"
   ]
  },
  {
   "cell_type": "markdown",
   "id": "31d75afc",
   "metadata": {},
   "source": [
    "### 2. Analyse and visualise the data"
   ]
  },
  {
   "cell_type": "code",
   "execution_count": null,
   "id": "2ce5d746",
   "metadata": {},
   "outputs": [],
   "source": [
    "# Removing any N/A rows present\n",
    "dataframe = dataframe.dropna()"
   ]
  },
  {
   "cell_type": "code",
   "execution_count": null,
   "id": "2d286790",
   "metadata": {},
   "outputs": [],
   "source": [
    "# Preprocessing the dataframe to extract as much data as possible.\n",
    "# TypeCase the datetimestamp from string to datetime format to facillitate easier extraction of data.\n",
    "dataframe[\"date\"] = pandas.to_datetime(dataframe['date'], format='%Y-%m-%d %H:%M:%S')\n",
    "# Extracted Number of Seconds from Midnight(NSM), to check how day night cycle affect electricity consumption.\n",
    "dataframe[\"NSM\"] = (dataframe[\"date\"] - pandas.to_datetime(dataframe['date'].dt.date, format='%Y-%m-%d')).dt.total_seconds()\n",
    "# Extracted If the day was a weekday(1 for Mon - Fri; 0 Sat & Sun)\n",
    "dataframe[\"week_status\"] = dataframe[\"date\"].apply(lambda date: 1 if(date.weekday() <= 4) else 0)\n",
    "# Extracted If the day was Monday \n",
    "dataframe[\"day_of_monday\"] = dataframe[\"date\"].apply(lambda date: date.weekday() == 0)\n",
    "# Extracted If the day was Tuesday \n",
    "dataframe[\"day_of_tuesday\"] = dataframe[\"date\"].apply(lambda date: date.weekday() == 1)\n",
    "# Extracted If the day was Wednsday \n",
    "dataframe[\"day_of_wednesday\"] = dataframe[\"date\"].apply(lambda date: date.weekday() == 2)\n",
    "# Extracted If the day was Thursday \n",
    "dataframe[\"day_of_thursday\"] = dataframe[\"date\"].apply(lambda date: date.weekday() == 3)\n",
    "# Extracted If the day was Friday \n",
    "dataframe[\"day_of_friday\"] = dataframe[\"date\"].apply(lambda date: date.weekday() == 4)\n",
    "# Extracted If the day was Saturday \n",
    "dataframe[\"day_of_saturday\"] = dataframe[\"date\"].apply(lambda date: date.weekday() == 5)\n",
    "# Extracted If the day was Sunday \n",
    "dataframe[\"day_of_sunday\"] = dataframe[\"date\"].apply(lambda date: date.weekday() == 6)"
   ]
  },
  {
   "cell_type": "code",
   "execution_count": null,
   "id": "4a91229b",
   "metadata": {},
   "outputs": [],
   "source": [
    "# Droping Date column as we have extracted nessesary data.\n",
    "# Furthermore, the prediction cannpt be performed on date as we only have data for few months rather than all year round.\n",
    "dataframe = dataframe.drop(\"date\", axis = 1).dropna()"
   ]
  },
  {
   "cell_type": "code",
   "execution_count": null,
   "id": "b5b9e028",
   "metadata": {},
   "outputs": [],
   "source": [
    "# Printing First few Rows of dataset to verify if dataframe has been transformed correctly.\n",
    "dataframe.head()"
   ]
  },
  {
   "cell_type": "code",
   "execution_count": null,
   "id": "ddab0490",
   "metadata": {},
   "outputs": [],
   "source": [
    "# Printing features in the dataset.\n",
    "print(list(dataframe.columns))"
   ]
  },
  {
   "cell_type": "code",
   "execution_count": null,
   "id": "fc3fe7a1",
   "metadata": {},
   "outputs": [],
   "source": [
    "# Printing schema of teh dataframe.\n",
    "dataframe.info()"
   ]
  },
  {
   "cell_type": "code",
   "execution_count": null,
   "id": "9b2ec50c",
   "metadata": {},
   "outputs": [],
   "source": [
    "# Printing stats about each feature in the dataset.\n",
    "dataframe.describe()"
   ]
  },
  {
   "cell_type": "code",
   "execution_count": null,
   "id": "67e80ca7",
   "metadata": {},
   "outputs": [],
   "source": [
    "# Plot the inter-dependencies of feathers in the dataset with each other\n",
    "plot.figure(figsize=(10, 10))\n",
    "seaborn.heatmap(dataframe.corr(), xticklabels=dataframe.columns, yticklabels=dataframe.columns)\n",
    "plot.show()"
   ]
  },
  {
   "cell_type": "code",
   "execution_count": null,
   "id": "172f0a75",
   "metadata": {},
   "outputs": [],
   "source": [
    "# Plot the dependencies of features with respect to target Column: Appliances\n",
    "plot.figure(figsize=(16, 1))\n",
    "axes = seaborn.heatmap([dataframe.corrwith(dataframe[\"Appliances\"])], xticklabels=dataframe.columns)\n",
    "plot.show()\n",
    "\n",
    "# Printing the correleation seperately onto console for more readability.\n",
    "print(\"Feature Name \\tCorreleation\")\n",
    "print(round(dataframe.corrwith(dataframe[\"Appliances\"]).sort_values(ascending=False), 5))"
   ]
  },
  {
   "cell_type": "code",
   "execution_count": null,
   "id": "b680cbfb",
   "metadata": {},
   "outputs": [],
   "source": [
    "# Seperating dependent(Appliances) and independant features(all features except Appliances) \n",
    "X = dataframe.drop(\"Appliances\", axis = 1)\n",
    "y = dataframe[\"Appliances\"]\n",
    "\n",
    "# Splitting the dataset into 2 parts for training and testing the model respectively.\n",
    "X_train, X_test, y_train, y_test = train_test_split(X, y, test_size = TEST_SIZE_RATIO, random_state=RANDOM_STATE_SEED)\n",
    "\n",
    "prediction_dataset = {\n",
    "    \"full\": (X, y), \n",
    "    \"train\": (X_train, y_train), \n",
    "    \"test\": (X_test, y_test)\n",
    "}\n",
    "\n",
    "prediction_dataset_columns = list(prediction_dataset.keys())\n",
    "metrics_columns = [\"mean_absolute_error\", \"mean_absolute_percentage_error\", \"r2_score\", \"root_mean_square_error\"]\n",
    "model_list = [\"GradientBoostingRegressor\", \"RandomForestRegressor\"]"
   ]
  },
  {
   "cell_type": "markdown",
   "id": "333cefa8",
   "metadata": {},
   "source": [
    "### 3. Implement prediction models"
   ]
  },
  {
   "attachments": {},
   "cell_type": "markdown",
   "id": "26194a85",
   "metadata": {},
   "source": [
    "#### Gradient Boosted Regression"
   ]
  },
  {
   "cell_type": "code",
   "execution_count": null,
   "id": "aea255b3",
   "metadata": {},
   "outputs": [],
   "source": [
    "# Configuration for GBR\n",
    "GBR_N_ESTIMATORS = 100\n",
    "GBR_MAX_DEPTH_SET = [1, 2, 3]\n",
    "GBR_VERBOSE = 1\n",
    "\n",
    "# Declaring and Initilizing performance variable to score metrics\n",
    "gbr_performance = pandas.DataFrame(data={\"prediction_set\": {}, \"metric\": {}, \"depth\": {}, \"boosting_iteration\": {}, \"value\": {}})\n",
    "gbr_feature_importance = pandas.DataFrame()\n",
    "\n",
    "# Applying Gradient Boosting Regression model to the dataset.\n",
    "# Reference: https://scikit-learn.org/stable/modules/generated/sklearn.ensemble.GradientBoostingRegressor.html\n",
    "gradient_boosting_regressor = GradientBoostingRegressor()"
   ]
  },
  {
   "attachments": {},
   "cell_type": "markdown",
   "id": "465f9198",
   "metadata": {},
   "source": [
    "#### Random Forest"
   ]
  },
  {
   "cell_type": "code",
   "execution_count": null,
   "id": "3beb9f48",
   "metadata": {},
   "outputs": [],
   "source": [
    "# Configuration for GBR\n",
    "RFR_N_ESTIMATORS_SET = range(1,11)\n",
    "RFR_VERBOSE = 1\n",
    "RFR_RANDOM_STATE_SEED = RANDOM_STATE_SEED\n",
    "\n",
    "# Declaring and Initilizing performance variable to score metrics\n",
    "rfr_performance = pandas.DataFrame(data={\"prediction_set\": {}, \"metric\": {}, \"n_estimators\": {}, \"value\": {}})\n",
    "rfr_feature_importance = pandas.DataFrame()\n",
    "\n",
    "# Applying Gradient Boosting Regression model to the dataset.\n",
    "# Reference: https://scikit-learn.org/stable/modules/generated/sklearn.ensemble.RandomForestRegressor.html#sklearn.ensemble.RandomForestRegressor\n",
    "random_forest_regressor = RandomForestRegressor()"
   ]
  },
  {
   "cell_type": "markdown",
   "id": "067cebcf",
   "metadata": {},
   "source": [
    "### 4. Train prediction models"
   ]
  },
  {
   "attachments": {},
   "cell_type": "markdown",
   "id": "94e7142d",
   "metadata": {},
   "source": [
    "#### Gradient Boosted Regression"
   ]
  },
  {
   "cell_type": "code",
   "execution_count": null,
   "id": "23c816a9",
   "metadata": {},
   "outputs": [],
   "source": [
    "for depth_iterator in GBR_MAX_DEPTH_SET:\n",
    "    print(\"\\nTraining Gradient Boosted Regression Model for MAX_DEPTH: %d\" %depth_iterator)\n",
    "\n",
    "    # Adding parameters for the SVR.\n",
    "    gradient_boosting_regressor.set_params(n_estimators = GBR_N_ESTIMATORS)\n",
    "    gradient_boosting_regressor.set_params(max_depth = depth_iterator)\n",
    "    gradient_boosting_regressor.set_params( verbose = GBR_VERBOSE)\n",
    "\n",
    "    # Parallelizing the training to speed up the training time.\n",
    "    # Reference: https://scikit-learn.org/stable/computing/parallelism.html\n",
    "    with joblib.parallel_backend(backend = \"loky\", n_jobs = -1):\n",
    "        gradient_boosting_regressor.fit(X_train, y_train)\n",
    "    \n",
    "    # Calculate the metrics for the model.\n",
    "    # Reference: https://scikit-learn.org/stable/modules/model_evaluation.html\n",
    "    for prediction_set in prediction_dataset.keys():\n",
    "        # Helps predict the target values at each boositng iteration. \n",
    "        # Reference: https://scikit-learn.org/stable/modules/generated/sklearn.ensemble.RandomForestRegressor.html#sklearn.ensemble.RandomForestRegressor.predict\n",
    "        for boosting_iteration, y_pred in enumerate(gradient_boosting_regressor.staged_predict(prediction_dataset[prediction_set][0])):\n",
    "            gbr_performance.loc[len(gbr_performance)] = {\n",
    "                \"prediction_set\": prediction_set,\n",
    "                \"metric\": \"root_mean_square_error\",\n",
    "                \"depth\": depth_iterator,\n",
    "                \"boosting_iteration\": boosting_iteration + 1,\n",
    "                \"value\": mean_squared_error(prediction_dataset[prediction_set][1], y_pred)\n",
    "            }\n",
    "            gbr_performance.loc[len(gbr_performance)] = {\n",
    "                \"prediction_set\": prediction_set,\n",
    "                \"metric\": \"r2_score\",\n",
    "                \"depth\": depth_iterator,\n",
    "                \"boosting_iteration\": boosting_iteration + 1,\n",
    "                \"value\": r2_score(prediction_dataset[prediction_set][1], y_pred)\n",
    "            }\n",
    "            gbr_performance.loc[len(gbr_performance)] = {\n",
    "                \"prediction_set\": prediction_set,\n",
    "                \"metric\": \"mean_absolute_error\",\n",
    "                \"depth\": depth_iterator,\n",
    "                \"boosting_iteration\": boosting_iteration + 1,\n",
    "                \"value\": mean_absolute_error(prediction_dataset[prediction_set][1], y_pred)\n",
    "            }\n",
    "            gbr_performance.loc[len(gbr_performance)] = {\n",
    "                \"prediction_set\": prediction_set,\n",
    "                \"metric\": \"mean_absolute_percentage_error\",\n",
    "                \"depth\": depth_iterator,\n",
    "                \"boosting_iteration\": boosting_iteration + 1,\n",
    "                \"value\": mean_absolute_percentage_error(prediction_dataset[prediction_set][1], y_pred)\n",
    "            }            \n",
    "\n",
    "# Save the importance of the feature w.r.t the most important feature.\n",
    "# Reference: https://scikit-learn.org/stable/modules/generated/sklearn.ensemble.GradientBoostingRegressor.html#sklearn.ensemble.GradientBoostingRegressor.feature_importances_\n",
    "feature_importance = gradient_boosting_regressor.feature_importances_\n",
    "releative_feature_importance = (feature_importance / feature_importance.max()) * 100\n",
    "sorted_indices=numpy.argsort(releative_feature_importance)\n",
    "gbr_feature_importance = pandas.DataFrame(data = {\"feature_names\": X.columns[sorted_indices], \"releative_feature_importance\": releative_feature_importance[sorted_indices], \"feature_importance\": feature_importance[sorted_indices]})"
   ]
  },
  {
   "attachments": {},
   "cell_type": "markdown",
   "id": "a5a3f3be",
   "metadata": {},
   "source": [
    "#### Random Forest Regression"
   ]
  },
  {
   "cell_type": "code",
   "execution_count": null,
   "id": "986fdfb6",
   "metadata": {},
   "outputs": [],
   "source": [
    "for n_estimators in RFR_N_ESTIMATORS_SET:\n",
    "    print(f\"\\nTraining Random Forest Regression Model for n_estimators: {n_estimators}\")\n",
    "\n",
    "    # Adding parameters for the RFR.\n",
    "    random_forest_regressor.set_params(n_estimators = n_estimators)\n",
    "    random_forest_regressor.set_params(n_jobs = -1)\n",
    "    random_forest_regressor.set_params(random_state=RFR_RANDOM_STATE_SEED)\n",
    "    random_forest_regressor.set_params(verbose = RFR_VERBOSE)\n",
    "\n",
    "    #Start training the Model.\n",
    "    random_forest_regressor.fit(X_train, y_train)\n",
    "    \n",
    "    # Calculate the metrics for the model.\n",
    "    # Reference: https://scikit-learn.org/stable/modules/model_evaluation.html\n",
    "    for prediction_set in prediction_dataset.keys():\n",
    "        # Helps predict the target values at each boositng iteration. \n",
    "        # Reference: https://scikit-learn.org/stable/modules/generated/sklearn.ensemble.GradientBoostingRegressor.html#sklearn.ensemble.GradientBoostingRegressor.staged_predict\n",
    "        y_pred = random_forest_regressor.predict(prediction_dataset[prediction_set][0])\n",
    "        rfr_performance.loc[len(rfr_performance)] = {\n",
    "            \"prediction_set\": prediction_set,\n",
    "            \"metric\": \"root_mean_square_error\",\n",
    "            \"n_estimators\": n_estimators,\n",
    "            \"value\": mean_squared_error(prediction_dataset[prediction_set][1], y_pred)\n",
    "        }\n",
    "        rfr_performance.loc[len(rfr_performance)] = {\n",
    "            \"prediction_set\": prediction_set,\n",
    "            \"metric\": \"r2_score\",\n",
    "            \"n_estimators\": n_estimators,\n",
    "            \"value\": r2_score(prediction_dataset[prediction_set][1], y_pred)\n",
    "        }\n",
    "        rfr_performance.loc[len(rfr_performance)] = {\n",
    "            \"prediction_set\": prediction_set,\n",
    "            \"metric\": \"mean_absolute_error\",\n",
    "            \"n_estimators\": n_estimators,\n",
    "            \"value\": mean_absolute_error(prediction_dataset[prediction_set][1], y_pred)\n",
    "        }\n",
    "        rfr_performance.loc[len(rfr_performance)] = {\n",
    "            \"prediction_set\": prediction_set,\n",
    "            \"metric\": \"mean_absolute_percentage_error\",\n",
    "            \"n_estimators\": n_estimators,\n",
    "            \"value\": mean_absolute_percentage_error(prediction_dataset[prediction_set][1], y_pred)\n",
    "        }            \n",
    "\n",
    "# Save the importance of the feature w.r.t the most important feature.\n",
    "# Reference: https://scikit-learn.org/stable/modules/generated/sklearn.ensemble.RandomForestRegressor.html#sklearn.ensemble.RandomForestRegressor.feature_importances_\n",
    "feature_importance = random_forest_regressor.feature_importances_\n",
    "releative_feature_importance = (feature_importance / feature_importance.max()) * 100\n",
    "sorted_indices=numpy.argsort(releative_feature_importance)\n",
    "rfr_feature_importance = pandas.DataFrame(data = {\"feature_names\": X.columns[sorted_indices], \"releative_feature_importance\": releative_feature_importance[sorted_indices], \"feature_importance\": feature_importance[sorted_indices]})"
   ]
  },
  {
   "cell_type": "markdown",
   "id": "333ba5cb",
   "metadata": {},
   "source": [
    "### 5. Test predictin models and show results"
   ]
  },
  {
   "attachments": {},
   "cell_type": "markdown",
   "id": "4f083408",
   "metadata": {},
   "source": [
    "#### Gradient Boosting Regression"
   ]
  },
  {
   "cell_type": "code",
   "execution_count": null,
   "id": "b975b73b",
   "metadata": {},
   "outputs": [],
   "source": [
    "# Visualize model's metrics using line graph subplots.\n",
    "# Reference: https://matplotlib.org/stable/gallery/subplots_axes_and_figures/subplots_demo.html\n",
    "figure, axesMatrix = plot.subplots(4,3)\n",
    "plot.tight_layout()\n",
    "graph_dataset = gbr_performance\n",
    "for prediction_set in graph_dataset[\"prediction_set\"].sort_values().unique():\n",
    "    graph_pred = graph_dataset.where(graph_dataset[\"prediction_set\"] == prediction_set).dropna()\n",
    "    for metric in graph_pred[\"metric\"].sort_values().unique():\n",
    "        graph_pm = graph_pred.where(graph_pred[\"metric\"] == metric).dropna()\n",
    "        graph = axesMatrix[metrics_columns.index(metric), prediction_dataset_columns.index(prediction_set)]\n",
    "        graph.set_title(f\"\\n\\n{metric} vs Boosting Iteration\\n(Calculated upon: {prediction_set} dataset)\")\n",
    "        graph.set_xlabel('Boosting Iterations')\n",
    "        graph.set_ylabel(metric)\n",
    "        for depth in graph_pm[\"depth\"].sort_values().unique():\n",
    "            graph_pmd = graph_pm.where(graph_pm[\"depth\"] == depth).dropna()\n",
    "            graph.plot(graph_pmd[\"boosting_iteration\"], graph_pmd[\"value\"], label = \"max_depth: \"  + str(int(depth)))\n",
    "        graph.legend(loc='upper right')\n",
    "\n",
    "figure.set_figheight(18)\n",
    "figure.set_figwidth(16)\n",
    "figure.suptitle(\"\\nMetrics to select optimal parameters for GBR\\n\")\n",
    "figure.tight_layout()\n",
    "plot.show()\n"
   ]
  },
  {
   "cell_type": "code",
   "execution_count": null,
   "id": "6bcd7404",
   "metadata": {},
   "outputs": [],
   "source": [
    "# Visualize feature importance of the model using bar graph subplots.\n",
    "# Reference: https://matplotlib.org/stable/gallery/subplots_axes_and_figures/subplots_demo.html\n",
    "figure, (plot1, plot2) = plot.subplots(1, 2)\n",
    "\n",
    "plot1.barh(gbr_feature_importance[\"feature_names\"], gbr_feature_importance[\"releative_feature_importance\"], align=\"center\")\n",
    "plot1.set_xlabel('Relative Importance')\n",
    "plot1.set_title('Releative Feature Importance')\n",
    "\n",
    "plot2.barh(gbr_feature_importance[\"feature_names\"], gbr_feature_importance[\"feature_importance\"], align=\"center\")\n",
    "plot2.set_xlabel('Feature Importance')\n",
    "plot2.set_title('Feature Importance')\n",
    "\n",
    "figure.set_figheight(9)\n",
    "figure.set_figwidth(16)\n",
    "figure.tight_layout()\n",
    "plot.show()\n",
    "\n",
    "gbr_feature_importance.sort_values(by=[\"releative_feature_importance\"], ascending = False).head(len(X))"
   ]
  },
  {
   "attachments": {},
   "cell_type": "markdown",
   "id": "a2ccd118",
   "metadata": {},
   "source": [
    "#### Random Forest Regression"
   ]
  },
  {
   "cell_type": "code",
   "execution_count": null,
   "id": "9c71dd13",
   "metadata": {},
   "outputs": [],
   "source": [
    "# Visualize model's metrics using line graph subplots.\n",
    "# Reference: https://matplotlib.org/stable/gallery/subplots_axes_and_figures/subplots_demo.html\n",
    "figure, axesMatrix = plot.subplots(4,3)\n",
    "plot.tight_layout()\n",
    "graph_dataset = rfr_performance\n",
    "for prediction_set in graph_dataset[\"prediction_set\"].sort_values().unique():\n",
    "    graph_pred = graph_dataset.where(graph_dataset[\"prediction_set\"] == prediction_set).dropna()\n",
    "    for metric in graph_pred[\"metric\"].sort_values().unique():\n",
    "        graph_pm = graph_pred.where(graph_pred[\"metric\"] == metric).dropna()\n",
    "        graph = axesMatrix[metrics_columns.index(metric), prediction_dataset_columns.index(prediction_set)]\n",
    "        graph.set_title(f\"\\n\\n{metric} vs n_estimators\\n(Calculated upon: {prediction_set} dataset)\")\n",
    "        graph.set_xlabel('n_estimators')\n",
    "        graph.set_ylabel(metric)\n",
    "        graph.plot(graph_pm[\"n_estimators\"], graph_pm[\"value\"])\n",
    "\n",
    "figure.set_figheight(18)\n",
    "figure.set_figwidth(16)\n",
    "figure.suptitle(\"\\nMetrics to select optimal parameters for RFR\\n\")\n",
    "figure.tight_layout()\n",
    "plot.show()\n"
   ]
  },
  {
   "cell_type": "code",
   "execution_count": null,
   "id": "e6434c13",
   "metadata": {},
   "outputs": [],
   "source": [
    "# Visualize feature importance of the model using bar graph subplots.\n",
    "# Reference: https://matplotlib.org/stable/gallery/subplots_axes_and_figures/subplots_demo.html\n",
    "figure, (plot1, plot2) = plot.subplots(1, 2)\n",
    "\n",
    "graph_dataset = rfr_feature_importance\n",
    "plot1.barh(graph_dataset[\"feature_names\"], graph_dataset[\"releative_feature_importance\"], align=\"center\")\n",
    "plot1.set_xlabel('Relative Importance')\n",
    "plot1.set_title('Releative Feature Importance')\n",
    "\n",
    "plot2.barh(graph_dataset[\"feature_names\"], graph_dataset[\"feature_importance\"], align=\"center\")\n",
    "plot2.set_xlabel('Feature Importance')\n",
    "plot2.set_title('Feature Importance')\n",
    "\n",
    "figure.set_figheight(9)\n",
    "figure.set_figwidth(16)\n",
    "figure.tight_layout()\n",
    "plot.show()\n",
    "\n",
    "graph_dataset.sort_values(by=[\"releative_feature_importance\"], ascending = False).head(len(X))"
   ]
  },
  {
   "cell_type": "markdown",
   "id": "ba7ea3a2",
   "metadata": {},
   "source": [
    "### 6. Compare the results from all candidate models, choose the best model, justify your choice and discuss the results"
   ]
  },
  {
   "cell_type": "code",
   "execution_count": null,
   "id": "6a193950",
   "metadata": {},
   "outputs": [],
   "source": [
    "# Initilizing the best_performance dataframe to store best performance of models\n",
    "best_performance = pandas.DataFrame(data={\"prediction_set\": {},\"metric\": {}, \"model\": {}, \"value\": {}})\n",
    "\n",
    "for prediction_set in prediction_dataset_columns:\n",
    "    for model in model_list:\n",
    "        for metric in metrics_columns:\n",
    "            # Initilizing the model_metric_dataframe dataframe depending upon the model's value\n",
    "            model_metric_dataframe = pandas.DataFrame()\n",
    "            if model == \"GradientBoostingRegressor\":\n",
    "                model_metric_dataframe = gbr_performance\n",
    "            elif model == \"RandomForestRegressor\":\n",
    "                model_metric_dataframe = rfr_performance\n",
    "\n",
    "            # Filter model_metric_dataframe to have data for iterated prediction_set & metric\n",
    "            model_metric_dataframe = model_metric_dataframe.loc[((model_metric_dataframe[\"prediction_set\"] == prediction_set) & (model_metric_dataframe[\"metric\"] == metric))]\n",
    "            \n",
    "            # Partition over dataframe where \n",
    "            #   columns are grouped over columns(\"prediction_set\", \"metric\") and \n",
    "            #   partitioned rows are ordered based on column(\"value\")\n",
    "            # Convert result into Dataframe\n",
    "            model_metric_dataframe = model_metric_dataframe.sort_values(\"value\").groupby(by = [\"prediction_set\", \"metric\"])[\"value\"].apply(pandas.DataFrame)\n",
    "            \n",
    "            # Select column(\"value\") by providing MultiIndex and dropping any N/A rows\n",
    "            model_metric_dataframe = model_metric_dataframe[prediction_set, metric].dropna()\n",
    "\n",
    "            # Inserting the values into best_performance dataframe\n",
    "            best_performance.loc[len(best_performance)] = {\n",
    "                \"prediction_set\": prediction_set, \n",
    "                \"model\": model, \n",
    "                \"metric\": metric, \n",
    "                \"value\": model_metric_dataframe.max() if \"metric\" == \"r2_score\" else model_metric_dataframe.min()\n",
    "            }\n",
    "\n",
    "# Pivot Table for better readability.\n",
    "best_performance = pandas.pivot_table(best_performance, values=\"value\", index = [\"prediction_set\", \"metric\"], columns = [\"model\"])\n",
    "\n",
    "# Displaying the Resulting Table\n",
    "best_performance.head(len(best_performance))"
   ]
  },
  {
   "cell_type": "markdown",
   "id": "8d9ff3f9",
   "metadata": {},
   "source": [
    "### 7. Reflect on what you have learned by completing this assignment"
   ]
  },
  {
   "cell_type": "code",
   "execution_count": null,
   "id": "99cf2087",
   "metadata": {},
   "outputs": [],
   "source": []
  },
  {
   "attachments": {},
   "cell_type": "markdown",
   "id": "9d3a91b4",
   "metadata": {},
   "source": [
    "### 8. References"
   ]
  },
  {
   "attachments": {},
   "cell_type": "markdown",
   "id": "caeb8b72",
   "metadata": {},
   "source": [
    "https://scikit-learn.org/stable/modules/generated/sklearn.ensemble.GradientBoostingRegressor.html\n",
    "\n",
    "https://scikit-learn.org/stable/modules/generated/sklearn.ensemble.RandomForestRegressor.html#sklearn.ensemble.RandomForestRegressor\n",
    "\n",
    "https://scikit-learn.org/stable/computing/parallelism.html\n",
    "\n",
    "https://scikit-learn.org/stable/modules/model_evaluation.html\n",
    "\n",
    "https://scikit-learn.org/stable/modules/generated/sklearn.ensemble.GradientBoostingRegressor.html#sklearn.ensemble.GradientBoostingRegressor.staged_predict\n",
    "\n",
    "https://scikit-learn.org/stable/modules/generated/sklearn.ensemble.GradientBoostingRegressor.html#sklearn.ensemble.GradientBoostingRegressor.feature_importances_\n",
    "\n",
    "https://scikit-learn.org/stable/modules/generated/sklearn.ensemble.RandomForestRegressor.html#sklearn.ensemble.RandomForestRegressor.predict\n",
    "\n",
    "https://scikit-learn.org/stable/modules/generated/sklearn.ensemble.RandomForestRegressor.html#sklearn.ensemble.RandomForestRegressor.feature_importances_\n",
    "\n",
    "https://matplotlib.org/stable/gallery/subplots_axes_and_figures/subplots_demo.html"
   ]
  }
 ],
 "metadata": {
  "kernelspec": {
   "display_name": "Python 3 (ipykernel)",
   "language": "python",
   "name": "python3"
  },
  "language_info": {
   "codemirror_mode": {
    "name": "ipython",
    "version": 3
   },
   "file_extension": ".py",
   "mimetype": "text/x-python",
   "name": "python",
   "nbconvert_exporter": "python",
   "pygments_lexer": "ipython3",
   "version": "3.9.12"
  }
 },
 "nbformat": 4,
 "nbformat_minor": 5
}
