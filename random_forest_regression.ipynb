{
 "cells": [
  {
   "cell_type": "code",
   "execution_count": 6,
   "metadata": {},
   "outputs": [],
   "source": [
    "from pathlib import Path  \n",
    "from matplotlib import pyplot as plot\n",
    "from pathlib import Path  \n",
    "import pandas as pandas\n",
    "import numpy as numpy\n",
    "from sklearn.ensemble import RandomForestRegressor\n",
    "from sklearn.model_selection import train_test_split\n",
    "from sklearn.metrics import mean_squared_error, r2_score, mean_absolute_error, mean_absolute_percentage_error\n",
    "\n",
    "import warnings\n",
    "warnings.filterwarnings(\"ignore\")"
   ]
  },
  {
   "cell_type": "code",
   "execution_count": null,
   "metadata": {},
   "outputs": [],
   "source": [
    "![image.png](attachment:image.png)"
   ]
  },
  {
   "cell_type": "code",
   "execution_count": 7,
   "metadata": {},
   "outputs": [],
   "source": [
    "dataframe = pandas.read_csv(\"dataset.csv\").dropna()\n",
    "feature_names = [\"Appliances\",\"T1\",\"RH_1\",\"T2\",\"RH_2\",\"T3\",\"RH_3\",\"T4\",\"RH_4\",\"T5\",\"RH_5\",\"T6\",\"RH_6\",\"T7\",\"RH_7\",\"T8\",\"RH_8\",\"T9\",\"RH_9\",\"T_out\",\"Press_mm_hg\",\"RH_out\",\"Windspeed\",\"Visibility\",\"Tdewpoint\"]\n",
    "dataframe = dataframe[feature_names]\n",
    "\n",
    "X = dataframe.drop(\"Appliances\", axis = 1)\n",
    "y = dataframe[\"Appliances\"]\n",
    "TEST_SIZE_RATIO = 0.20\n",
    "RANDOM_STATE_SEED = 1\n",
    "X_train, X_test, y_train, y_test = train_test_split(X, y, test_size = TEST_SIZE_RATIO, random_state=RANDOM_STATE_SEED)"
   ]
  },
  {
   "cell_type": "code",
   "execution_count": 8,
   "metadata": {},
   "outputs": [],
   "source": [
    "rfr_metrics_dataset_PATH = Path(\"./rfr_metrics_dataset.csv\")\n",
    "if not (rfr_metrics_dataset_PATH.exists() and rfr_metrics_dataset_PATH.is_file()):\n",
    "    N_ESTIMATORS_SET = range(1, 500)\n",
    "    performance = {}\n",
    "    for n_estimators in N_ESTIMATORS_SET:\n",
    "        print(\"\\nTraining Random Forest Regression Model for n_estimators: %d\" %n_estimators)\n",
    "        # Applying Random Forest Regression model to the dataset.\n",
    "        # Reference: https://scikit-learn.org/stable/modules/generated/sklearn.ensemble.RandomForestRegressor.html#sklearn.ensemble.RandomForestRegressor\n",
    "        random_forest_regressor = RandomForestRegressor(n_estimators = n_estimators, n_jobs = -1, random_state=1, verbose = 1)\n",
    "        random_forest_regressor.fit(X_train, y_train)\n",
    "\n",
    "        # Calculate the metrics for the model.\n",
    "        # Reference: https://scikit-learn.org/stable/modules/model_evaluation.html\n",
    "        y_pred = random_forest_regressor.predict(X)\n",
    "        performance[n_estimators] = {\n",
    "            \"root_mean_square_error\": mean_squared_error(y, y_pred, squared=False),\n",
    "            \"r2_score\": r2_score(y, y_pred),\n",
    "            \"mean_absolute_error\": mean_absolute_error(y, y_pred),\n",
    "            \"mean_absolute_percentage_error\": mean_absolute_percentage_error(y, y_pred)\n",
    "        }\n",
    "    \n",
    "    # Save the calculated metrics of the Random Forest Regression Model into the csv.\n",
    "    csv_string = \"\\\"n_estimators\\\",\\\"root_mean_square_error\\\",\\\"r2_score\\\",\\\"mean_absolute_error\\\",\\\"mean_absolute_percentage_error\\\"\"\n",
    "    for n_estimators in performance.keys():\n",
    "        csv_string = csv_string + \"\\n\" + str(n_estimators) + \",\" + str(performance[n_estimators][\"root_mean_square_error\"]) + \",\" + str(performance[n_estimators][\"r2_score\"]) + \",\" + str(performance[n_estimators][\"mean_absolute_error\"]) + \",\" + str(performance[n_estimators][\"mean_absolute_percentage_error\"])\n",
    "    random_forest_regression_metrics_dataset = open(rfr_metrics_dataset_PATH.name, \"w\")\n",
    "    random_forest_regression_metrics_dataset.write(csv_string)\n",
    "    random_forest_regression_metrics_dataset.close()\n",
    "\n",
    "    # Save the importance of the feature w.r.t the most important feature and store the data into csv.\n",
    "    # Reference: https://scikit-learn.org/stable/modules/generated/sklearn.ensemble.RandomForestRegressor.html#sklearn.ensemble.RandomForestRegressor.feature_importances_\n",
    "    RFR_RELEATIVE_FEATURE_IMPORTANCE_DATASET_PATH = Path(\"./RFR_releative_feature_importance_dataset.csv\")\n",
    "    feature_importance = random_forest_regressor.feature_importances_\n",
    "    releative_feature_importance = (feature_importance / feature_importance.max()) * 100\n",
    "    sorted_indices=numpy.argsort(releative_feature_importance)\n",
    "    pandas.DataFrame(data = {\"feature_names\": numpy.array(feature_names)[sorted_indices], \"releative_feature_importance\": releative_feature_importance[sorted_indices], \"feature_importance\": feature_importance[sorted_indices]}).to_csv(RFR_RELEATIVE_FEATURE_IMPORTANCE_DATASET_PATH.name)"
   ]
  },
  {
   "cell_type": "code",
   "execution_count": null,
   "metadata": {},
   "outputs": [],
   "source": [
    "# Visualize model's metrics using line graph subplots.\n",
    "# Reference: https://matplotlib.org/stable/gallery/subplots_axes_and_figures/subplots_demo.html\n",
    "rfr_metrics = pandas.read_csv(rfr_metrics_dataset_PATH.name)\n",
    "figure, (plot1, plot2, plot3, plot4) = plot.subplots(4)\n",
    "plot.tight_layout()\n",
    "\n",
    "plot1.set_title(\"Root Mean Square Error vs Boosting Iteration for multiple n_estimators\")\n",
    "plot1.set_xlabel('n_estimators')\n",
    "plot1.set_ylabel('Root Mean Square Error')\n",
    "plot1.plot(rfr_metrics[\"n_estimators\"], rfr_metrics[\"root_mean_square_error\"])\n",
    "\n",
    "plot2.set_title(\"R-square vs Boosting Iteration for multiple n_estimators\")\n",
    "plot2.set_xlabel('n_estimators')\n",
    "plot2.set_ylabel('R-square')\n",
    "plot2.plot(rfr_metrics[\"n_estimators\"], rfr_metrics[\"r2_score\"])\n",
    "\n",
    "\n",
    "plot3.set_title(\"Mean Absolute Error vs Boosting Iteration for multiple n_estimators\")\n",
    "plot2.set_xlabel('n_estimators')\n",
    "plot3.set_ylabel('Mean Absolute Error')\n",
    "plot3.plot(rfr_metrics[\"n_estimators\"], rfr_metrics[\"mean_absolute_error\"])\n",
    "\n",
    "\n",
    "plot4.set_title(\"Mean Absolute Percentage Error vs Boosting Iteration for multiple n_estimators\")\n",
    "plot2.set_xlabel('n_estimators')\n",
    "plot4.set_ylabel('Mean Absolute Percentage Error')\n",
    "plot4.plot(rfr_metrics[\"n_estimators\"], rfr_metrics[\"mean_absolute_percentage_error\"])\n",
    "\n",
    "figure.set_figheight(18)\n",
    "figure.set_figwidth(16)\n",
    "figure.suptitle(\"Metrics to select optimal parameters for RFR\")\n",
    "figure.savefig(\"rfr_metrics_vs_iteration_for_multiple_n_estimators.png\")\n",
    "figure.show()"
   ]
  },
  {
   "cell_type": "code",
   "execution_count": null,
   "metadata": {},
   "outputs": [],
   "source": [
    "# Visualize feature importance of the model using bar graph subplots.\n",
    "# Reference: https://matplotlib.org/stable/gallery/subplots_axes_and_figures/subplots_demo.html\n",
    "rfr_metrics = pandas.read_csv(RFR_RELEATIVE_FEATURE_IMPORTANCE_DATASET_PATH.name)\n",
    "\n",
    "figure, (plot1, plot2) = plot.subplots(1, 2)\n",
    "\n",
    "plot1.barh(rfr_metrics[\"feature_names\"], rfr_metrics[\"releative_feature_importance\"], align=\"center\")\n",
    "plot1.set_xlabel('Relative Importance')\n",
    "plot1.set_title('Releative Feature Importance')\n",
    "\n",
    "plot2.barh(rfr_metrics[\"feature_names\"], rfr_metrics[\"feature_importance\"], align=\"center\")\n",
    "plot2.set_xlabel('Feature Importance')\n",
    "plot2.set_title('Feature Importance')\n",
    "\n",
    "figure.set_figheight(9)\n",
    "figure.set_figwidth(16)\n",
    "figure.show()"
   ]
  }
 ],
 "metadata": {
  "kernelspec": {
   "display_name": "base",
   "language": "python",
   "name": "python3"
  },
  "language_info": {
   "codemirror_mode": {
    "name": "ipython",
    "version": 3
   },
   "file_extension": ".py",
   "mimetype": "text/x-python",
   "name": "python",
   "nbconvert_exporter": "python",
   "pygments_lexer": "ipython3",
   "version": "3.9.12"
  },
  "orig_nbformat": 4
 },
 "nbformat": 4,
 "nbformat_minor": 2
}
